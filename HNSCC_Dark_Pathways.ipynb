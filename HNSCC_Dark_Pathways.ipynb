{
 "cells": [
  {
   "cell_type": "markdown",
   "metadata": {},
   "source": [
    "# Illuminating HNSCC \n",
    "\n",
    "## Light and Dark Pathways Workflow\n",
    "\n",
    "### McWeeney Lab, Oregon Health & Science University\n",
    "\n",
    "** Author: Gabrielle Choonoo (choonoo@ohsu.edu) **\n",
    "\n",
    "## Introduction\n",
    "\n",
    "This is the step-by-step workflow for generating light and dark pathways for Head and Neck Squamous Cell Carcinoma.\n",
    "Light = Significantly enriched pathways w/mutations and contains drug targeted genes\n",
    "Dark = Significanly enriched pathways w/mutations and doesn't contain drug targeted genes\n",
    "\n",
    "Required Files:\n",
    "* HNSCC Mutation data (.maf)\n",
    "* Drug targeted genes (.txt)\n",
    "* Reactome Pathway membership data (.txt)\n",
    "* This notebook (HNSCC_Dark_Pathways.ipynb): [[Download here]](https://raw.githubusercontent.com/gchoonoo/HNSCC_Notebook/master/HNSCC_Dark_Pathways.ipynb)\n",
    "\n",
    "Required R packages:\n",
    "- `pathLayerDistributionVersion2-master` (Saved on Box)\n",
    "- `packageDir`\n",
    "- `roxygen2`\n",
    "- `rBiopaxParser`\n",
    "- `stringr`\n",
    "\n",
    "**Note: this notebook can also be downloaded as an R script (only the code blocks seen below will be included): [[Download R script here]](https://raw.githubusercontent.com/gchoonoo/HNSCC_Notebook/master/buildAndRunScript_GC.r)\n",
    "\n",
    "** All code is available on GitHub: [https://github.com/gchoonoo/HNSCC_Notebook](https://github.com/gchoonoo/HNSCC_Notebook) **"
   ]
  },
  {
   "cell_type": "markdown",
   "metadata": {},
   "source": [
    "# Install Packages"
   ]
  },
  {
   "cell_type": "code",
   "execution_count": null,
   "metadata": {
    "collapsed": true
   },
   "outputs": [],
   "source": [
    "# Set directory to the package contents\n",
    "setwd(\"/Users/choonoo/pathLayerDistributionVersion2-master\")\n",
    "\n",
    "# Install package\n",
    "devtools::install(\"./packageDir\")\n",
    "\n",
    "# Load packages\n",
    "library(\"packageDir\")\n",
    "library(\"roxygen2\")\n",
    "library(\"rBiopaxParser\")\n",
    "library(\"stringr\")"
   ]
  },
  {
   "cell_type": "markdown",
   "metadata": {},
   "source": [
    "# Download and Save Data"
   ]
  },
  {
   "cell_type": "code",
   "execution_count": null,
   "metadata": {
    "collapsed": true
   },
   "outputs": [],
   "source": [
    "# Save the mutation .maf file and drug targeted genes in this folder: \n",
    "# \"/Users/choonoo/pathLayerDistributionVersion2-master/executionDir/input\"\n",
    "\n",
    "# Save the current Reactome pathways in this folder:\n",
    "# \"/Users/choonoo/pathLayerDistributionVersion2-master/executionDir/reference_data/paths\"\n",
    "\n",
    "# Note: These will already be uploaded on Box for the first pass, idea is that this can be applied to any cancer type on TCGA with any drug panel"
   ]
  },
  {
   "cell_type": "markdown",
   "metadata": {},
   "source": [
    "# Run Study"
   ]
  },
  {
   "cell_type": "code",
   "execution_count": null,
   "metadata": {
    "collapsed": true
   },
   "outputs": [],
   "source": [
    "# Set directory to the executionDir folder from the package contents\n",
    "setwd(\"/Users/choonoo/pathLayerDistributionVersion2-master/executionDir\")\n",
    "\n",
    "# Launch study\n",
    "STUDY = allInteractiveMainFunction()"
   ]
  },
  {
   "cell_type": "markdown",
   "metadata": {},
   "source": [
    "# Interactive Mode Start"
   ]
  },
  {
   "cell_type": "code",
   "execution_count": null,
   "metadata": {
    "collapsed": true
   },
   "outputs": [],
   "source": [
    "# No Study object found, initilizing pathways.\n",
    "\n",
    "# ---------------------Initilizing Study---------------------\n",
    "\n",
    "# Correct directory structure found.\n",
    "# To load a saved study, Enter s\n",
    "# Enter a study name to start a new study with that name\n",
    "# To start a new study with the date as the study name, press enter "
   ]
  },
  {
   "cell_type": "markdown",
   "metadata": {},
   "source": [
    "# Enter HNSCC Analysis with the current date or just hit enter"
   ]
  },
  {
   "cell_type": "code",
   "execution_count": null,
   "metadata": {
    "collapsed": true
   },
   "outputs": [],
   "source": [
    "# Would you like to use interactive gene symbol correciton? (enter y or n)"
   ]
  },
  {
   "cell_type": "markdown",
   "metadata": {},
   "source": [
    "# Enter y"
   ]
  },
  {
   "cell_type": "code",
   "execution_count": null,
   "metadata": {
    "collapsed": true
   },
   "outputs": [],
   "source": [
    "# To get info on how to update this file enter \"i\"\n",
    "# Otherwise, just press enter to continue"
   ]
  },
  {
   "cell_type": "markdown",
   "metadata": {},
   "source": [
    "# Hit Enter"
   ]
  },
  {
   "cell_type": "code",
   "execution_count": null,
   "metadata": {
    "collapsed": true
   },
   "outputs": [],
   "source": [
    "# Currently available pathway repositories:\n",
    "#  Repository source procurement date Number of paths Number of genes\n",
    "# 1          Reactome    Oct 17th 2013            1459            6926\n",
    "# 2  ReactomePathways          2/11/15            1650            7644\n",
    "#  Selection Number\n",
    "# 1                1\n",
    "# 2                2\n",
    "# Please enter the selection number for the pathway repository you would like to use.\n",
    "# Or, if you would like to import a different pathway repository, (for example: a custom repository)\n",
    "# please enter i: "
   ]
  },
  {
   "cell_type": "markdown",
   "metadata": {},
   "source": [
    "# Enter 2"
   ]
  },
  {
   "cell_type": "code",
   "execution_count": null,
   "metadata": {
    "collapsed": true
   },
   "outputs": [],
   "source": [
    "# These are the options available at this time\n",
    "\n",
    "# Data input options:\n",
    "#                                               Option number\n",
    "#Change pathways                                            1\n",
    "#Load settings from previous study                          2\n",
    "#Run analysis from loaded settings                          3\n",
    "#Load drug screen data                                      4\n",
    "#Load somatic mutation data                                 5\n",
    "#Load abitrary set of genes for path enrichment             6\n",
    "#Run overlap analysis                                       7\n",
    "\n",
    "#Data processing options:\n",
    "                                                 Option number\n",
    "# combine aberration data and summarize by pathway             8\n",
    "#View summary of loaded data                                  9\n",
    "#Compare sources of aberration data                          10\n",
    "#Create network diagrams for affected pathways               11\n",
    "#Save a data summary to HTML                                 12\n",
    "#Make nozzle report                                          13\n",
    "#Save current study                                          14\n",
    "#Change study name                                           15\n",
    "#Clear all loaded settings                                   16\n",
    "#Clear current study and study data                          17\n",
    "#Run drug selection worksheet                                18\n",
    "#\t\t\tTo quit program enter\t q"
   ]
  },
  {
   "cell_type": "markdown",
   "metadata": {},
   "source": [
    "# Enter 5 (Load somatic mutation data)"
   ]
  },
  {
   "cell_type": "code",
   "execution_count": null,
   "metadata": {
    "collapsed": true
   },
   "outputs": [],
   "source": [
    "# To load somatic mutation data: enter 1\n",
    "# To process somatic sequencing data, limiting the coverage, enter 2\n",
    "# To exit somatic mutation interface: enter 3."
   ]
  },
  {
   "cell_type": "markdown",
   "metadata": {},
   "source": [
    "# Enter 1"
   ]
  },
  {
   "cell_type": "markdown",
   "metadata": {},
   "source": [
    "# Select \"broad.mit.edu__IlluminaGA_curated_DNA_sequencing_level2.maf\" \n",
    "# from folder: /Users/choonoo/pathLayerDistributionVersion2-master/executionDir/input/"
   ]
  },
  {
   "cell_type": "code",
   "execution_count": null,
   "metadata": {
    "collapsed": true
   },
   "outputs": [],
   "source": [
    "# Have manual gene symbol corrections already been conducted? (y/n)"
   ]
  },
  {
   "cell_type": "markdown",
   "metadata": {},
   "source": [
    "# Enter y"
   ]
  },
  {
   "cell_type": "code",
   "execution_count": null,
   "metadata": {
    "collapsed": true
   },
   "outputs": [],
   "source": [
    "# Would you like to append dbSNP status to variant classifications? (y/n)"
   ]
  },
  {
   "cell_type": "markdown",
   "metadata": {},
   "source": [
    "# Enter n (Note this will take a few minutes)"
   ]
  },
  {
   "cell_type": "code",
   "execution_count": null,
   "metadata": {
    "collapsed": true
   },
   "outputs": [],
   "source": [
    "# Would you like to include PolyPhen analysis results in this analysis? (y/n) "
   ]
  },
  {
   "cell_type": "markdown",
   "metadata": {},
   "source": [
    "# Enter n"
   ]
  },
  {
   "cell_type": "code",
   "execution_count": null,
   "metadata": {
    "collapsed": true
   },
   "outputs": [],
   "source": [
    "# These are the available options:\n",
    "#              types counts\n",
    "# 1   Frame_Shift_Del   1170\n",
    "# 2   Frame_Shift_Ins    529\n",
    "# 3      In_Frame_Del    283\n",
    "# 4      In_Frame_Ins     41\n",
    "# 5 Missense_Mutation  33260\n",
    "# 6 Nonsense_Mutation   2686\n",
    "# 7  Nonstop_Mutation     44\n",
    "# 8            Silent  12922\n",
    "# 9       Splice_Site    864\n",
    "\n",
    " \n",
    "# Please enter the row numbers of the variant types you would like to analyze (sepparated by a space).\n",
    " \n",
    "# Enter your selection numbers or just press enter to use the default value:"
   ]
  },
  {
   "cell_type": "markdown",
   "metadata": {},
   "source": [
    "# Enter 5 (missense mutation)"
   ]
  },
  {
   "cell_type": "code",
   "execution_count": null,
   "metadata": {
    "collapsed": true
   },
   "outputs": [],
   "source": [
    "# Would you like to filter out those somatic mutations with dbSNP values? (please enter y or n) "
   ]
  },
  {
   "cell_type": "markdown",
   "metadata": {},
   "source": [
    "# Enter n"
   ]
  },
  {
   "cell_type": "code",
   "execution_count": null,
   "metadata": {
    "collapsed": true
   },
   "outputs": [],
   "source": [
    "# Would you like to filter out hypermutators?\n",
    "# If yes, please enter a mutation count threshold.\n",
    "# If no just press enter n "
   ]
  },
  {
   "cell_type": "markdown",
   "metadata": {},
   "source": [
    "# Enter n"
   ]
  },
  {
   "cell_type": "code",
   "execution_count": null,
   "metadata": {
    "collapsed": true
   },
   "outputs": [],
   "source": [
    "# Use special path significance analysis settings for this data type? (y/n)"
   ]
  },
  {
   "cell_type": "markdown",
   "metadata": {},
   "source": [
    "# Enter n (Note this will take a few minutes)"
   ]
  },
  {
   "cell_type": "code",
   "execution_count": null,
   "metadata": {
    "collapsed": true
   },
   "outputs": [],
   "source": [
    "# These are the options available at this time\n",
    "# \n",
    "# Data input options:\n",
    "#   Option number\n",
    "# Change pathways                                            1\n",
    "# Load settings from previous study                          2\n",
    "# Run analysis from loaded settings                          3\n",
    "# Load drug screen data                                      4\n",
    "# Load somatic mutation data                                 5\n",
    "# Load abitrary set of genes for path enrichment             6\n",
    "# Run overlap analysis                                       7\n",
    "# \n",
    "# Data processing options:\n",
    "#   Option number\n",
    "# combine aberration data and summarize by pathway             8\n",
    "# View summary of loaded data                                  9\n",
    "# Compare sources of aberration data                          10\n",
    "# Create network diagrams for affected pathways               11\n",
    "# Save a data summary to HTML                                 12\n",
    "# Make nozzle report                                          13\n",
    "# Save current study                                          14\n",
    "# Change study name                                           15\n",
    "# Clear all loaded settings                                   16\n",
    "# Clear current study and study data                          17\n",
    "# Run drug selection worksheet                                18\n",
    "# To quit program enter\t q"
   ]
  },
  {
   "cell_type": "markdown",
   "metadata": {},
   "source": [
    "# Enter 14 (Save current study)"
   ]
  },
  {
   "cell_type": "markdown",
   "metadata": {},
   "source": [
    "# Enter 4 (Load drug screen data)"
   ]
  },
  {
   "cell_type": "code",
   "execution_count": null,
   "metadata": {
    "collapsed": true
   },
   "outputs": [],
   "source": [
    "# To analyze drug screen panel coverage (for a panel that has or has not been run), enter p\n",
    "# To process drug screen result set enter d\n",
    "# To save an HTML summary of the results enter h\n",
    "# To exit drug screen interface, enter q"
   ]
  },
  {
   "cell_type": "markdown",
   "metadata": {},
   "source": [
    "# Enter p"
   ]
  },
  {
   "cell_type": "markdown",
   "metadata": {},
   "source": [
    "# Select file: hnscc_drug_panel_cleaned.txt \n",
    "# from folder: /Users/choonoo/pathLayerDistributionVersion2-master/executionDir/input/"
   ]
  },
  {
   "cell_type": "code",
   "execution_count": null,
   "metadata": {
    "collapsed": true
   },
   "outputs": [],
   "source": [
    "# Enter \"g\" to examine coverage using a set of gene names.\n",
    "# Enter \"d\" to examine coverage using drug names, along with a drug target matrix:"
   ]
  },
  {
   "cell_type": "markdown",
   "metadata": {},
   "source": [
    "# Enter g"
   ]
  },
  {
   "cell_type": "code",
   "execution_count": null,
   "metadata": {
    "collapsed": true
   },
   "outputs": [],
   "source": [
    "# Please select a file \n",
    "# \n",
    "# These are the columns of data available:\n",
    "#   targets\n",
    "# 1    AAK1\n",
    "# 2    ABL1\n",
    "# 3    ABL2\n",
    "# 4   ACVR1\n",
    "# 5  ACVR1B\n",
    "# 6  ACVR2A\n",
    "# Please type in the name of the column with the gene symbols:"
   ]
  },
  {
   "cell_type": "markdown",
   "metadata": {},
   "source": [
    "# Enter targets"
   ]
  },
  {
   "cell_type": "code",
   "execution_count": null,
   "metadata": {
    "collapsed": true
   },
   "outputs": [],
   "source": [
    "# Have manual gene symbol corrections already been made? (y/n)"
   ]
  },
  {
   "cell_type": "markdown",
   "metadata": {},
   "source": [
    "# Enter y"
   ]
  },
  {
   "cell_type": "code",
   "execution_count": null,
   "metadata": {
    "collapsed": true
   },
   "outputs": [],
   "source": [
    "# These are the options available at this time\n",
    "# \n",
    "# Data input options:\n",
    "#   Option number\n",
    "# Change pathways                                            1\n",
    "# Load settings from previous study                          2\n",
    "# Run analysis from loaded settings                          3\n",
    "# Load drug screen data                                      4\n",
    "# Load somatic mutation data                                 5\n",
    "# Load abitrary set of genes for path enrichment             6\n",
    "# Run overlap analysis                                       7\n",
    "# \n",
    "# Data processing options:\n",
    "#   Option number\n",
    "# combine aberration data and summarize by pathway             8\n",
    "# View summary of loaded data                                  9\n",
    "# Compare sources of aberration data                          10\n",
    "# Create network diagrams for affected pathways               11\n",
    "# Save a data summary to HTML                                 12\n",
    "# Make nozzle report                                          13\n",
    "# Save current study                                          14\n",
    "# Change study name                                           15\n",
    "# Clear all loaded settings                                   16\n",
    "# Clear current study and study data                          17\n",
    "# Run drug selection worksheet                                18\n",
    "# To quit program enter\t q"
   ]
  },
  {
   "cell_type": "markdown",
   "metadata": {},
   "source": [
    "# Enter 14 (Save current study)"
   ]
  },
  {
   "cell_type": "markdown",
   "metadata": {},
   "source": [
    "# Enter 7 (Run overlap analysis)"
   ]
  },
  {
   "cell_type": "markdown",
   "metadata": {},
   "source": [
    "# Enter 14 (Save current study) and push Esc"
   ]
  },
  {
   "cell_type": "code",
   "execution_count": null,
   "metadata": {
    "collapsed": true
   },
   "outputs": [],
   "source": [
    "# All results will be saved in:\n",
    "# /Users/choonoo/pathLayerDistributionVersion2-master/executionDir/output/study_Analysis from 2016-07-13 11.42.34 or\n",
    "# /Users/choonoo/pathLayerDistributionVersion2-master/executionDir/output/HNSCC_Analysis\n",
    "\n",
    "# Light pathways are in:\n",
    "# /Users/choonoo/pathLayerDistributionVersion2-master/executionDir/output/study_Analysis from 2016-07-13 11.42.34/\n",
    "# results/overlap_analysis/Aberrationally enriched, containing drug targets.txt\n",
    "\n",
    "# Dark pathways are in:\n",
    "# /Users/choonoo/pathLayerDistributionVersion2-master/executionDir/output/study_Analysis from 2016-07-13 11.42.34/\n",
    "# results/overlap_analysis/Aberration enriched, not drug targeted.txt"
   ]
  },
  {
   "cell_type": "code",
   "execution_count": null,
   "metadata": {
    "collapsed": true
   },
   "outputs": [],
   "source": [
    "# Note: Can enter saved study by entering:\n",
    "STUDY = allInteractiveMainFunction()\n",
    "\n",
    "# Enter s\n",
    "# Enter index of saved study"
   ]
  }
 ],
 "metadata": {
  "kernelspec": {
   "display_name": "R",
   "language": "R",
   "name": "ir"
  },
  "language_info": {
   "codemirror_mode": "r",
   "file_extension": ".r",
   "mimetype": "text/x-r-source",
   "name": "R",
   "pygments_lexer": "r",
   "version": "3.2.2"
  }
 },
 "nbformat": 4,
 "nbformat_minor": 0
}
